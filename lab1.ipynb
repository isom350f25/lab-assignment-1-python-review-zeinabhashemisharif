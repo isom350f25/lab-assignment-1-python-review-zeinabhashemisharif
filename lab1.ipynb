{
 "cells": [
  {
   "cell_type": "code",
   "execution_count": null,
   "id": "80c86b3d",
   "metadata": {},
   "outputs": [],
   "source": [
    "def main():\n",
    "    names=[]\n",
    "    price=[]\n",
    "    running=True\n",
    "\n",
    "    while running==True:\n",
    "        item_name= input(\"enter item name(or 'hit enter' to finish):\")\n",
    "        if item_name!=\"\":\n",
    "            item_price= (input(\"enter item price for {item_name}:\"))\n",
    "            if item_price.isdigit():\n",
    "                item_price = float(item_price)\n",
    "                if item_price >=0 and item_price<=200:\n",
    "                    names.append(item_name)\n",
    "                    price.append(item_price)\n",
    "\n",
    "                else:\n",
    "                    print(\"price should be between 0 and 200\")\n",
    "            else: \n",
    "                print(\"invalid price pleas enter a number\")\n",
    "\n",
    "        else:\n",
    "            running=False\n",
    "    if len(names)>0:\n",
    "        items=len(names)\n",
    "        average= sum(price)/items\n",
    "        max_price=max(price)\n",
    "        min_price=min(price)\n",
    "        max_item=names[price.index(max_price)]\n",
    "        min_item=names[price.index(min_price)]\n",
    "    \n",
    "        print(\"Total items:\", items)\n",
    "        print(\"Average price:\", average)\n",
    "        print(f\"Most expensive item: {max_item}, {max_price}\")\n",
    "        print(f\"Least expensive item:{min_item}, {min_price}\")\n",
    "\n",
    "    else:\n",
    "        print(\"No items entered.\")\n",
    "\n",
    "main()\n",
    "\n",
    "\n",
    "          \n",
    "        "
   ]
  }
 ],
 "metadata": {
  "language_info": {
   "name": "python"
  }
 },
 "nbformat": 4,
 "nbformat_minor": 5
}
